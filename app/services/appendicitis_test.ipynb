{
 "cells": [
  {
   "cell_type": "code",
   "execution_count": 1,
   "id": "707a0e9f",
   "metadata": {},
   "outputs": [
    {
     "name": "stdout",
     "output_type": "stream",
     "text": [
      "Multiview MVCBM model loaded successfully\n"
     ]
    }
   ],
   "source": [
    "import sys\n",
    "import os\n",
    "ORTHANC_URL = \"http://127.0.0.1:8042\"\n",
    "\n",
    "# 프로젝트 루트 경로 (FastAPI/ 위치) 추가\n",
    "sys.path.append(r\"c:\\\\Users\\\\human-02\\\\Desktop\\\\FastAPI\")\n",
    "from app.services.Multiview import MultiViewService\n",
    "from app.services.parsing_patientdata import PatientData"
   ]
  },
  {
   "cell_type": "code",
   "execution_count": 4,
   "id": "f0d59932",
   "metadata": {},
   "outputs": [
    {
     "name": "stdout",
     "output_type": "stream",
     "text": [
      "Multiview MVCBM model loaded successfully\n",
      "Multiview MVCBM model loaded successfully\n",
      "{'results': {'patient_0': {'appendicitis_probability': 0.9455777406692505,\n",
      "                           'concept_scores': {'Appendix visible': 0.7074615359306335,\n",
      "                                              'Coprostasis': 0.5100247859954834,\n",
      "                                              'Free fluid': 0.6426451802253723,\n",
      "                                              'Irregular layers': 0.7857745885848999,\n",
      "                                              'Lymphadenitis': 0.29270991683006287,\n",
      "                                              'Meteorism': 0.3066997826099396,\n",
      "                                              'Target sign': 0.6591379046440125,\n",
      "                                              'Thick bowel wall': 0.6267648339271545,\n",
      "                                              'Tissue reaction': 0.7362894415855408},\n",
      "                           'num_views': 4,\n",
      "                           'raw_concepts': [0.7074615359306335,\n",
      "                                            0.6426451802253723,\n",
      "                                            0.7857745885848999,\n",
      "                                            0.6591379046440125,\n",
      "                                            0.7362894415855408,\n",
      "                                            0.29270991683006287,\n",
      "                                            0.6267648339271545,\n",
      "                                            0.5100247859954834,\n",
      "                                            0.3066997826099396],\n",
      "                           'success': True,\n",
      "                           'target_logits': [2.8550240993499756]}},\n",
      " 'success': True,\n",
      " 'total_patients': 1}\n"
     ]
    }
   ],
   "source": [
    "parsing_data = PatientData(ORTHANC_URL)\n",
    "parsing_patient = PatientData(ORTHANC_URL)\n",
    "patient_tag_data, studies = parsing_patient.parsing_target_patient('Sophia Anderson')\n",
    "studies_tag_data, series = parsing_patient.parsing_target_studies(studies)\n",
    "instances_data, modality = parsing_patient.parsing_target_series(series)\n",
    "instances_images = parsing_patient.parsing_target_dicom_images(instances_data)\n",
    "\n",
    "a = MultiViewService()\n",
    "model = a._load_model()\n",
    "\n",
    "images, mask, filenames = a.create_multiview_batch(instances_images)\n",
    "results = a.predict_multiview_tensor(images, mask)\n",
    "\n",
    "# 결과 출력\n",
    "import pprint\n",
    "pprint.pprint(results)"
   ]
  },
  {
   "cell_type": "code",
   "execution_count": null,
   "id": "92a83715",
   "metadata": {},
   "outputs": [],
   "source": []
  }
 ],
 "metadata": {
  "kernelspec": {
   "display_name": "SoAI",
   "language": "python",
   "name": "python3"
  },
  "language_info": {
   "codemirror_mode": {
    "name": "ipython",
    "version": 3
   },
   "file_extension": ".py",
   "mimetype": "text/x-python",
   "name": "python",
   "nbconvert_exporter": "python",
   "pygments_lexer": "ipython3",
   "version": "3.11.13"
  }
 },
 "nbformat": 4,
 "nbformat_minor": 5
}
