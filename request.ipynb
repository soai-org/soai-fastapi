{
 "cells": [
  {
   "cell_type": "code",
   "execution_count": 2,
   "id": "4cd4febf",
   "metadata": {},
   "outputs": [
    {
     "name": "stdout",
     "output_type": "stream",
     "text": [
      "['319710f8-9bfd9e36-a061bca7-479ce3da-eb700f9a']\n",
      "{'PatientBirthDate': '2024-07-23', 'PatientID': '2663', 'PatientName': '뵹서준', 'PatientSex': 'M'}\n",
      "['29089b35-98efe024-f53c6d52-a3df3087-8c1a7b10']\n",
      "torch.Size([1, 3, 512, 512])\n",
      "악성흑색종\n"
     ]
    }
   ],
   "source": [
    "import requests\n",
    "from app.services.parsing_patientdata import PatientData\n",
    "import numpy as np\n",
    "import torch\n",
    "\n",
    "ORTHANC_URL = \"http://192.168.0.45:8042\"\n",
    "target_name = \"뵹서준\"\n",
    "\n",
    "np.set_printoptions(threshold=np.inf)  # 전체 배열 출력\n",
    "np.set_printoptions(linewidth=200)    # 한 줄 길이 설정\n",
    "\n",
    "parsing_patient = PatientData(ORTHANC_URL)\n",
    "patient_tag_data, studies = parsing_patient.parsing_target_patient(target_name)\n",
    "studies_tag_data, series = parsing_patient.parsing_target_studies(studies)\n",
    "instances_data, modality = parsing_patient.parsing_target_series(series)\n",
    "instances_images = parsing_patient.parsing_target_dicom_image(instances_data)\n",
    "\n",
    "print(studies)\n",
    "print(patient_tag_data)\n",
    "print(instances_data)\n",
    "torch_image = torch.from_numpy(instances_images).permute(0,3,1,2)\n",
    "print(torch_image.shape)\n",
    "print(studies_tag_data['StudyDescription'])"
   ]
  },
  {
   "cell_type": "code",
   "execution_count": 3,
   "id": "d923a84d",
   "metadata": {},
   "outputs": [
    {
     "name": "stderr",
     "output_type": "stream",
     "text": [
      "c:\\finalprjFastAPI\\.venv\\lib\\site-packages\\torchvision\\models\\_utils.py:208: UserWarning: The parameter 'pretrained' is deprecated since 0.13 and may be removed in the future, please use 'weights' instead.\n",
      "  warnings.warn(\n",
      "c:\\finalprjFastAPI\\.venv\\lib\\site-packages\\torchvision\\models\\_utils.py:223: UserWarning: Arguments other than a weight enum or `None` for 'weights' are deprecated since 0.13 and may be removed in the future. The current behavior is equivalent to passing `weights=None`.\n",
      "  warnings.warn(msg)\n"
     ]
    },
    {
     "data": {
      "text/plain": [
       "<All keys matched successfully>"
      ]
     },
     "execution_count": 3,
     "metadata": {},
     "output_type": "execute_result"
    }
   ],
   "source": [
    "import torchvision\n",
    "import torch\n",
    "model = torchvision.models.resnet18(pretrained = False)\n",
    "model.fc = torch.nn.Linear(model.fc.in_features,15)\n",
    "weight_path = 'app\\models\\Skin_RESNET_18.pth'\n",
    "state_dict = torch.load(weight_path, map_location='cpu')\n",
    "model.load_state_dict(state_dict)"
   ]
  },
  {
   "cell_type": "code",
   "execution_count": 4,
   "id": "5f5050a6",
   "metadata": {},
   "outputs": [
    {
     "name": "stdout",
     "output_type": "stream",
     "text": [
      "tensor([[15.0297,  4.2034,  6.4438,  3.8213,  2.0636,  4.0239, 23.6326,  3.2112,\n",
      "          6.3205,  3.6933,  2.0878,  7.3707,  3.1670,  9.4700,  5.4610]],\n",
      "       grad_fn=<MulBackward0>)\n"
     ]
    }
   ],
   "source": [
    "probs = torch.nn.functional.softmax(model(torch_image/255.0),dim=1)\n",
    "print(probs*100)"
   ]
  },
  {
   "cell_type": "code",
   "execution_count": 7,
   "id": "ea7dff0d",
   "metadata": {},
   "outputs": [
    {
     "data": {
      "text/plain": [
       "'악성흑생종'"
      ]
     },
     "execution_count": 7,
     "metadata": {},
     "output_type": "execute_result"
    }
   ],
   "source": [
    "class_map = {\n",
    "    0: \"광선각화증\",\n",
    "    1: \"기저세포암\",\n",
    "    2: \"멜라닌세포모반\",\n",
    "    3: \"보웬병\",\n",
    "    4: \"비립종\",\n",
    "    5: \"사마귀\",\n",
    "    6: \"악성흑생종\",\n",
    "    7: \"지루각화증\",\n",
    "    8: \"편평세포암\",\n",
    "    9: \"표피낭종\",\n",
    "    10: \"피부섬유종\",\n",
    "    11: \"피지샘증식증\",\n",
    "    12: \"혈관종\",\n",
    "    13: \"화농육아종\",\n",
    "    14: \"흑색점\"\n",
    "}\n",
    "class_map[torch.argmax(probs).item()]"
   ]
  },
  {
   "cell_type": "code",
   "execution_count": null,
   "id": "2786692a",
   "metadata": {},
   "outputs": [],
   "source": []
  }
 ],
 "metadata": {
  "kernelspec": {
   "display_name": ".venv",
   "language": "python",
   "name": "python3"
  },
  "language_info": {
   "codemirror_mode": {
    "name": "ipython",
    "version": 3
   },
   "file_extension": ".py",
   "mimetype": "text/x-python",
   "name": "python",
   "nbconvert_exporter": "python",
   "pygments_lexer": "ipython3",
   "version": "3.10.6"
  }
 },
 "nbformat": 4,
 "nbformat_minor": 5
}
