{
 "cells": [
  {
   "cell_type": "code",
   "execution_count": 1,
   "id": "4cd4febf",
   "metadata": {},
   "outputs": [
    {
     "name": "stdout",
     "output_type": "stream",
     "text": [
      "['6b09b7f8-1507b778-44fb52ee-1bba8a93-461f75d7']\n",
      "{'PatientBirthDate': '20240313', 'PatientID': '1.2.826.0.1.3680043.8.498.7573464407110708614670445210431232013', 'PatientName': 'Emma Davis', 'PatientSex': 'F'}\n",
      "['53a72699-a870dd33-732ae4cc-fcbba8d7-b30fca1b', '64829597-913ec2f6-558c5fac-807f4421-82ce5c6c', '7857c744-93afa6da-4c72f2a5-2b80ac58-1e358afb', '7d3521ce-123ee122-03935c20-90608221-b1114b92', '9a69e992-ad4e73da-9b2c34f6-d842fb3a-a8092a06', 'a00badf3-0c87d320-4a3d057b-7524a552-c4a711f3', 'a24919ca-18bf3cee-1fe80b3e-540d8d82-060cf233', 'b5119c4e-829c4021-54bc2111-8a4f52cf-2946aea3', 'bf28ee7f-169ab744-cf14ce2c-2f910f97-7c6efed3', 'c1a4a5a4-f8d2aa51-8ea138a2-214e8aec-c2dd0c0d', 'e50031c6-611607fa-7c90e70d-9267ddab-703c1f1a', 'f98c31d2-1db09c5b-a9eb79af-b50a0993-093e1f56']\n",
      "torch.Size([12, 3, 400, 400])\n",
      "Appendicitis+-\n"
     ]
    }
   ],
   "source": [
    "from app.services.parsing_patientdata import PatientData\n",
    "import numpy as np\n",
    "\n",
    "ORTHANC_URL = \"http://127.0.0.1:8042\"\n",
    "target_name = \"Emma Davis\"\n",
    "\n",
    "np.set_printoptions(threshold=np.inf)  # 전체 배열 출력\n",
    "np.set_printoptions(linewidth=200)    # 한 줄 길이 설정\n",
    "\n",
    "parsing_patient = PatientData(ORTHANC_URL)\n",
    "patient_tag_data, studies = parsing_patient.parsing_target_patient(target_name)\n",
    "studies_tag_data, series = parsing_patient.parsing_target_studies(studies)\n",
    "instances_data, modality = parsing_patient.parsing_target_series(series)\n",
    "instances_images = parsing_patient.parsing_target_dicom_images(instances_data)\n",
    "\n",
    "print(studies)\n",
    "print(patient_tag_data)\n",
    "print(instances_data)\n",
    "print(instances_images.shape)\n",
    "print(studies_tag_data['StudyDescription'])"
   ]
  },
  {
   "cell_type": "code",
   "execution_count": 10,
   "id": "609edaff",
   "metadata": {},
   "outputs": [
    {
     "data": {
      "image/png": "[encoded data removed]",
      "text/plain": [
       "<Figure size 640x480 with 1 Axes>"
      ]
     },
     "metadata": {},
     "output_type": "display_data"
    }
   ],
   "source": [
    "import requests\n",
    "import numpy as np\n",
    "import matplotlib.pyplot as plt\n",
    "\n",
    "\n",
    "# FastAPI 서버에서 가져오기\n",
    "resp = requests.post(\"http://127.0.0.1:8000/image/segmentation_array\",json={\"instanceUUID\":'b6291d44-100cffc4-28e32b4f-a746b007-0da58616'})\n",
    "\n",
    "# JSON 파싱\n",
    "resp_json = resp.json()\n",
    "hex_data = resp_json[\"data\"]\n",
    "\n",
    "# hex → bytes\n",
    "byte_data = bytes.fromhex(hex_data)\n",
    "\n",
    "# bytes → numpy 배열\n",
    "# shape, dtype를 서버에서 같이 보내주면 좋지만, 지금은 (H, W) 임의 지정\n",
    "# 예: 512x512 세그멘테이션 마스크\n",
    "H, W = 512, 512\n",
    "mask = np.frombuffer(byte_data, dtype=np.uint8).reshape(H, W)\n",
    "\n",
    "# 시각화\n",
    "plt.imshow(mask, cmap=\"gray\")\n",
    "plt.title(\"Segmentation Mask\")\n",
    "plt.axis(\"off\")\n",
    "plt.show()\n"
   ]
  }
 ],
 "metadata": {
  "kernelspec": {
   "display_name": "SoAI",
   "language": "python",
   "name": "python3"
  },
  "language_info": {
   "codemirror_mode": {
    "name": "ipython",
    "version": 3
   },
   "file_extension": ".py",
   "mimetype": "text/x-python",
   "name": "python",
   "nbconvert_exporter": "python",
   "pygments_lexer": "ipython3",
   "version": "3.11.13"
  }
 },
 "nbformat": 4,
 "nbformat_minor": 5
}
